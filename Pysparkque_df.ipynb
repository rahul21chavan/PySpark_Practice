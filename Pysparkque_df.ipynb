{
  "nbformat": 4,
  "nbformat_minor": 0,
  "metadata": {
    "colab": {
      "provenance": [],
      "authorship_tag": "ABX9TyMEAngF9/Umefq+wT7sTn2f"
    },
    "kernelspec": {
      "name": "python3",
      "display_name": "Python 3"
    },
    "language_info": {
      "name": "python"
    }
  },
  "cells": [
    {
      "cell_type": "code",
      "execution_count": 1,
      "metadata": {
        "id": "v4uRhYTqzhRh"
      },
      "outputs": [],
      "source": [
        "from pyspark.sql import SparkSession\n",
        "from pyspark.sql.functions import col\n",
        "\n",
        "# Initialize Spark session\n",
        "spark = SparkSession.builder.appName(\"FiveQueries\").getOrCreate()\n",
        "\n",
        "# Sample data\n",
        "data = [\n",
        "    (\"John\", \"Sales\", 3000),\n",
        "    (\"Jane\", \"Marketing\", 4000),\n",
        "    (\"Doe\", \"Sales\", 3500),\n",
        "    (\"Smith\", \"HR\", 3200),\n",
        "    (\"Brown\", \"Marketing\", 3800)\n",
        "]\n",
        "\n",
        "# Create DataFrame\n",
        "df = spark.createDataFrame(data, [\"Name\", \"Department\", \"Salary\"])\n",
        "\n"
      ]
    },
    {
      "cell_type": "code",
      "source": [
        "# 1. Show all data\n",
        "print(\"Query 1: Show all data\")\n",
        "df.show()\n",
        "\n"
      ],
      "metadata": {
        "colab": {
          "base_uri": "https://localhost:8080/"
        },
        "id": "LRkq3WMM2KSN",
        "outputId": "abcab448-ce8f-40e0-b2f5-944c904faf33"
      },
      "execution_count": 2,
      "outputs": [
        {
          "output_type": "stream",
          "name": "stdout",
          "text": [
            "Query 1: Show all data\n",
            "+-----+----------+------+\n",
            "| Name|Department|Salary|\n",
            "+-----+----------+------+\n",
            "| John|     Sales|  3000|\n",
            "| Jane| Marketing|  4000|\n",
            "|  Doe|     Sales|  3500|\n",
            "|Smith|        HR|  3200|\n",
            "|Brown| Marketing|  3800|\n",
            "+-----+----------+------+\n",
            "\n"
          ]
        }
      ]
    },
    {
      "cell_type": "code",
      "source": [
        "# 2. Filter employees in Sales department\n",
        "print(\"Query 2: Filter employees in Sales department\")\n",
        "df_sales = df.filter(col(\"Department\") == \"Sales\")\n",
        "df_sales.show()\n",
        "\n"
      ],
      "metadata": {
        "colab": {
          "base_uri": "https://localhost:8080/"
        },
        "id": "bAtOLZTJ2MoT",
        "outputId": "d39654e1-d1d6-4a14-ab86-b43a4b447659"
      },
      "execution_count": 3,
      "outputs": [
        {
          "output_type": "stream",
          "name": "stdout",
          "text": [
            "Query 2: Filter employees in Sales department\n",
            "+----+----------+------+\n",
            "|Name|Department|Salary|\n",
            "+----+----------+------+\n",
            "|John|     Sales|  3000|\n",
            "| Doe|     Sales|  3500|\n",
            "+----+----------+------+\n",
            "\n"
          ]
        }
      ]
    },
    {
      "cell_type": "code",
      "source": [
        "# 3. Calculate average salary by department\n",
        "print(\"Query 3: Calculate average salary by department\")\n",
        "df.groupby(\"Department\").agg({\"Salary\": \"avg\"}).show()\n",
        "\n"
      ],
      "metadata": {
        "colab": {
          "base_uri": "https://localhost:8080/"
        },
        "id": "KF9-Xqwk2OEB",
        "outputId": "0270038b-3d14-4514-a62b-ff0f0f1002d2"
      },
      "execution_count": 4,
      "outputs": [
        {
          "output_type": "stream",
          "name": "stdout",
          "text": [
            "Query 3: Calculate average salary by department\n",
            "+----------+-----------+\n",
            "|Department|avg(Salary)|\n",
            "+----------+-----------+\n",
            "|     Sales|     3250.0|\n",
            "| Marketing|     3900.0|\n",
            "|        HR|     3200.0|\n",
            "+----------+-----------+\n",
            "\n"
          ]
        }
      ]
    },
    {
      "cell_type": "code",
      "source": [
        "# 4. Find employees with salary above 3500\n",
        "print(\"Query 4: Find employees with salary above 3500\")\n",
        "df_high_salary = df.filter(col(\"Salary\") > 3500)\n",
        "df_high_salary.show()\n",
        "\n"
      ],
      "metadata": {
        "colab": {
          "base_uri": "https://localhost:8080/"
        },
        "id": "czv6eL712Pbc",
        "outputId": "1709c2bd-c698-48de-d743-ab5b9ec32487"
      },
      "execution_count": 5,
      "outputs": [
        {
          "output_type": "stream",
          "name": "stdout",
          "text": [
            "Query 4: Find employees with salary above 3500\n",
            "+-----+----------+------+\n",
            "| Name|Department|Salary|\n",
            "+-----+----------+------+\n",
            "| Jane| Marketing|  4000|\n",
            "|Brown| Marketing|  3800|\n",
            "+-----+----------+------+\n",
            "\n"
          ]
        }
      ]
    },
    {
      "cell_type": "code",
      "source": [
        "# 5. Sort employees by salary in descending order\n",
        "print(\"Query 5: Sort employees by salary in descending order\")\n",
        "df_sorted = df.sort(col(\"Salary\").desc())\n",
        "df_sorted.show()"
      ],
      "metadata": {
        "colab": {
          "base_uri": "https://localhost:8080/"
        },
        "id": "GTOIcJS-2Q4x",
        "outputId": "4ba89ff7-ca8e-4397-920d-964a82ab0254"
      },
      "execution_count": 6,
      "outputs": [
        {
          "output_type": "stream",
          "name": "stdout",
          "text": [
            "Query 5: Sort employees by salary in descending order\n",
            "+-----+----------+------+\n",
            "| Name|Department|Salary|\n",
            "+-----+----------+------+\n",
            "| Jane| Marketing|  4000|\n",
            "|Brown| Marketing|  3800|\n",
            "|  Doe|     Sales|  3500|\n",
            "|Smith|        HR|  3200|\n",
            "| John|     Sales|  3000|\n",
            "+-----+----------+------+\n",
            "\n"
          ]
        }
      ]
    },
    {
      "cell_type": "code",
      "source": [
        "# Stop the Spark session\n",
        "spark.stop()"
      ],
      "metadata": {
        "id": "CttQ8fzV2U_L"
      },
      "execution_count": 7,
      "outputs": []
    },
    {
      "cell_type": "code",
      "source": [],
      "metadata": {
        "id": "JxONLhLA3ILF"
      },
      "execution_count": null,
      "outputs": []
    }
  ]
}