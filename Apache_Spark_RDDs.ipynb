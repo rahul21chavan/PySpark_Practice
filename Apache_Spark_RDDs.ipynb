{
  "nbformat": 4,
  "nbformat_minor": 0,
  "metadata": {
    "colab": {
      "provenance": [],
      "authorship_tag": "ABX9TyM4kMF1j+KssDUTeb5wB+az"
    },
    "kernelspec": {
      "name": "python3",
      "display_name": "Python 3"
    },
    "language_info": {
      "name": "python"
    }
  },
  "cells": [
    {
      "cell_type": "code",
      "execution_count": 1,
      "metadata": {
        "id": "oPc-vDchk16R"
      },
      "outputs": [],
      "source": [
        "from pyspark.sql import SparkSession"
      ]
    },
    {
      "cell_type": "code",
      "source": [
        "spark= SparkSession.builder.appName(\"Rdd-Demoo\").getOrCreate()"
      ],
      "metadata": {
        "id": "2piN58aFk4k1"
      },
      "execution_count": 5,
      "outputs": []
    },
    {
      "cell_type": "markdown",
      "source": [
        "How to create rdds"
      ],
      "metadata": {
        "id": "kaFUrDOElgcJ"
      }
    },
    {
      "cell_type": "code",
      "source": [
        "numbers=[1,2,3,4,5]\n",
        "rdd=spark.sparkContext.parallelize(numbers)"
      ],
      "metadata": {
        "id": "6XeUZzyvli7p"
      },
      "execution_count": 6,
      "outputs": []
    },
    {
      "cell_type": "code",
      "source": [
        "rdd.collect() #show rdd"
      ],
      "metadata": {
        "colab": {
          "base_uri": "https://localhost:8080/"
        },
        "id": "pDJiVStwlqbs",
        "outputId": "44cbb1ad-af6c-4870-dbbe-419031908bc8"
      },
      "execution_count": 7,
      "outputs": [
        {
          "output_type": "execute_result",
          "data": {
            "text/plain": [
              "[1, 2, 3, 4, 5]"
            ]
          },
          "metadata": {},
          "execution_count": 7
        }
      ]
    },
    {
      "cell_type": "code",
      "source": [
        "data=[('rahul',23),('ritesh',28)]\n",
        "rdd=spark.sparkContext.parallelize(data)"
      ],
      "metadata": {
        "id": "HciKyDy8lsuf"
      },
      "execution_count": 8,
      "outputs": []
    },
    {
      "cell_type": "code",
      "source": [
        "rdd.collect()"
      ],
      "metadata": {
        "colab": {
          "base_uri": "https://localhost:8080/"
        },
        "id": "Mszt39J4mE89",
        "outputId": "b274b247-7662-4f43-e190-edb763461a73"
      },
      "execution_count": 9,
      "outputs": [
        {
          "output_type": "execute_result",
          "data": {
            "text/plain": [
              "[('rahul', 23), ('ritesh', 28)]"
            ]
          },
          "metadata": {},
          "execution_count": 9
        }
      ]
    },
    {
      "cell_type": "code",
      "source": [
        "print(\"all element rdd:\",rdd.collect())"
      ],
      "metadata": {
        "colab": {
          "base_uri": "https://localhost:8080/"
        },
        "id": "n-Z5U00jmH1x",
        "outputId": "52446aee-bd5e-4492-a271-6bed727b2e12"
      },
      "execution_count": 11,
      "outputs": [
        {
          "output_type": "stream",
          "name": "stdout",
          "text": [
            "all element rdd: [('rahul', 23), ('ritesh', 28)]\n"
          ]
        }
      ]
    },
    {
      "cell_type": "markdown",
      "source": [
        "RDDs Operatios Actions"
      ],
      "metadata": {
        "id": "yYjKYYrEmSvf"
      }
    },
    {
      "cell_type": "code",
      "source": [
        "count=rdd.count()\n",
        "print(count)"
      ],
      "metadata": {
        "colab": {
          "base_uri": "https://localhost:8080/"
        },
        "id": "k4Ss2a0emNiw",
        "outputId": "0553c3c5-fbc0-4a30-a2ff-35900bc4deae"
      },
      "execution_count": 13,
      "outputs": [
        {
          "output_type": "stream",
          "name": "stdout",
          "text": [
            "2\n"
          ]
        }
      ]
    },
    {
      "cell_type": "code",
      "source": [
        "#first elements\n",
        "first_elements=rdd.first()\n",
        "print(first_elements)"
      ],
      "metadata": {
        "colab": {
          "base_uri": "https://localhost:8080/"
        },
        "id": "p8tRA7vxmYJe",
        "outputId": "3c697084-ddfc-4a3a-e846-cc7bb574a25d"
      },
      "execution_count": 14,
      "outputs": [
        {
          "output_type": "stream",
          "name": "stdout",
          "text": [
            "('rahul', 23)\n"
          ]
        }
      ]
    },
    {
      "cell_type": "code",
      "source": [
        "#retrive the n elements of rdd\n",
        "take_elements=rdd.take(2)\n",
        "print(take_elements)"
      ],
      "metadata": {
        "colab": {
          "base_uri": "https://localhost:8080/"
        },
        "id": "Fy_RM1rLmmYF",
        "outputId": "76035cfb-db7e-4423-b489-a56ab8239cd6"
      },
      "execution_count": 15,
      "outputs": [
        {
          "output_type": "stream",
          "name": "stdout",
          "text": [
            "[('rahul', 23), ('ritesh', 28)]\n"
          ]
        }
      ]
    },
    {
      "cell_type": "code",
      "source": [
        "# Foreach action: Print each element of the RDD\n",
        "rdd.foreach(lambda x: print(x))"
      ],
      "metadata": {
        "id": "JhzyJWJdmxOT"
      },
      "execution_count": 23,
      "outputs": []
    },
    {
      "cell_type": "code",
      "source": [
        "rdd.collect()"
      ],
      "metadata": {
        "colab": {
          "base_uri": "https://localhost:8080/"
        },
        "id": "bqvrPLtXm9l4",
        "outputId": "6e25605a-24e2-455d-d708-b5e2782db979"
      },
      "execution_count": 19,
      "outputs": [
        {
          "output_type": "execute_result",
          "data": {
            "text/plain": [
              "[('rahul', 23), ('ritesh', 28)]"
            ]
          },
          "metadata": {},
          "execution_count": 19
        }
      ]
    },
    {
      "cell_type": "code",
      "source": [
        "#rdd operations transformations"
      ],
      "metadata": {
        "id": "ph0MmDNrofhp"
      },
      "execution_count": 24,
      "outputs": []
    },
    {
      "cell_type": "code",
      "source": [
        "#mapped transoformations name to  uppercase\n",
        "mapped_rdd=rdd.map(lambda x: (x[0].upper(),x[1]))"
      ],
      "metadata": {
        "id": "gvvB57YFohEI"
      },
      "execution_count": 25,
      "outputs": []
    },
    {
      "cell_type": "code",
      "source": [
        "result=mapped_rdd.collect()"
      ],
      "metadata": {
        "id": "OPIGC1cnpGBe"
      },
      "execution_count": 26,
      "outputs": []
    },
    {
      "cell_type": "code",
      "source": [
        "print(result)"
      ],
      "metadata": {
        "colab": {
          "base_uri": "https://localhost:8080/"
        },
        "id": "ivZj0IdEpJuT",
        "outputId": "c13381c6-38c0-4bcc-b024-b717d6c11216"
      },
      "execution_count": 27,
      "outputs": [
        {
          "output_type": "stream",
          "name": "stdout",
          "text": [
            "[('RAHUL', 23), ('RITESH', 28)]\n"
          ]
        }
      ]
    },
    {
      "cell_type": "code",
      "source": [
        "# Filter transformation: Filter records where age is greater than 30\n",
        "filter_rdd=rdd.filter(lambda x: x[1]>20)"
      ],
      "metadata": {
        "id": "a_lul6dBpMko"
      },
      "execution_count": 33,
      "outputs": []
    },
    {
      "cell_type": "code",
      "source": [
        "filter_rdd.collect()\n"
      ],
      "metadata": {
        "colab": {
          "base_uri": "https://localhost:8080/"
        },
        "id": "lSLUFfYEpb3_",
        "outputId": "66bdbc22-0132-4aed-f496-baed38f8d465"
      },
      "execution_count": 34,
      "outputs": [
        {
          "output_type": "execute_result",
          "data": {
            "text/plain": [
              "[('rahul', 23), ('ritesh', 28)]"
            ]
          },
          "metadata": {},
          "execution_count": 34
        }
      ]
    },
    {
      "cell_type": "code",
      "source": [
        "#calculate total age\n",
        "total_age=rdd.reduceByKey(lambda x,y: x + y)\n",
        "total_age.collect()"
      ],
      "metadata": {
        "colab": {
          "base_uri": "https://localhost:8080/"
        },
        "id": "LUAkBD7cpeAQ",
        "outputId": "0ba2160d-c9f7-4994-c24b-96cd11010796"
      },
      "execution_count": 37,
      "outputs": [
        {
          "output_type": "execute_result",
          "data": {
            "text/plain": [
              "[('rahul', 23), ('ritesh', 28)]"
            ]
          },
          "metadata": {},
          "execution_count": 37
        }
      ]
    },
    {
      "cell_type": "code",
      "source": [
        "# SortBy transformation: Sort the RDD by age in descending order\n",
        "sort_rdd=rdd.sortBy(lambda x: x[1], ascending=False)\n",
        "sort_rdd.collect()"
      ],
      "metadata": {
        "colab": {
          "base_uri": "https://localhost:8080/"
        },
        "id": "iUbpjoDup5HB",
        "outputId": "8a8686db-bbce-409a-a372-0ee9923e6a20"
      },
      "execution_count": 38,
      "outputs": [
        {
          "output_type": "execute_result",
          "data": {
            "text/plain": [
              "[('ritesh', 28), ('rahul', 23)]"
            ]
          },
          "metadata": {},
          "execution_count": 38
        }
      ]
    },
    {
      "cell_type": "markdown",
      "source": [
        "Save RDDs to text file and read RDDs from text file\n"
      ],
      "metadata": {
        "id": "ReT_2hOlqaRS"
      }
    },
    {
      "cell_type": "code",
      "source": [
        "rdd.saveAsTextFile(\"output_rdd\")"
      ],
      "metadata": {
        "id": "7ZyUqy4jqVjN"
      },
      "execution_count": 39,
      "outputs": []
    },
    {
      "cell_type": "code",
      "source": [
        "rdd_text=spark.sparkContext.textFile(\"output_rdd\")\n",
        "rdd_text.collect()"
      ],
      "metadata": {
        "colab": {
          "base_uri": "https://localhost:8080/"
        },
        "id": "JCgYF78HqfI6",
        "outputId": "9c56f2c7-0f26-4396-c9e8-c78ede71f287"
      },
      "execution_count": 40,
      "outputs": [
        {
          "output_type": "execute_result",
          "data": {
            "text/plain": [
              "[\"('rahul', 23)\", \"('ritesh', 28)\"]"
            ]
          },
          "metadata": {},
          "execution_count": 40
        }
      ]
    },
    {
      "cell_type": "code",
      "source": [
        "spark.stop()"
      ],
      "metadata": {
        "id": "f6ew9LX6qpg3"
      },
      "execution_count": 41,
      "outputs": []
    }
  ]
}