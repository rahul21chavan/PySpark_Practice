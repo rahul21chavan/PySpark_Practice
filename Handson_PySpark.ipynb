{
  "nbformat": 4,
  "nbformat_minor": 0,
  "metadata": {
    "colab": {
      "provenance": [],
      "authorship_tag": "ABX9TyOs4AeEjKzzwN2nTsR8UEsa"
    },
    "kernelspec": {
      "name": "python3",
      "display_name": "Python 3"
    },
    "language_info": {
      "name": "python"
    }
  },
  "cells": [
    {
      "cell_type": "markdown",
      "source": [
        "generate the emp df and filter emo salary>50000 write the o/p in csv  format\n"
      ],
      "metadata": {
        "id": "h_iNMZY16dGd"
      }
    },
    {
      "cell_type": "code",
      "execution_count": 1,
      "metadata": {
        "id": "oE0_FYxU5tuL"
      },
      "outputs": [],
      "source": [
        "from pyspark.sql import SparkSession"
      ]
    },
    {
      "cell_type": "code",
      "source": [
        "spark = SparkSession.builder.appName('emp').getOrCreate()"
      ],
      "metadata": {
        "id": "K8xnM3AC6qyU"
      },
      "execution_count": 2,
      "outputs": []
    },
    {
      "cell_type": "code",
      "source": [
        "spark"
      ],
      "metadata": {
        "colab": {
          "base_uri": "https://localhost:8080/",
          "height": 220
        },
        "id": "thckWy9o60L0",
        "outputId": "1d1917cd-f8e0-497c-c280-9451435b067b"
      },
      "execution_count": 3,
      "outputs": [
        {
          "output_type": "execute_result",
          "data": {
            "text/plain": [
              "<pyspark.sql.session.SparkSession at 0x78e5f5ecfbd0>"
            ],
            "text/html": [
              "\n",
              "            <div>\n",
              "                <p><b>SparkSession - in-memory</b></p>\n",
              "                \n",
              "        <div>\n",
              "            <p><b>SparkContext</b></p>\n",
              "\n",
              "            <p><a href=\"http://af3dd94fd93a:4040\">Spark UI</a></p>\n",
              "\n",
              "            <dl>\n",
              "              <dt>Version</dt>\n",
              "                <dd><code>v3.5.5</code></dd>\n",
              "              <dt>Master</dt>\n",
              "                <dd><code>local[*]</code></dd>\n",
              "              <dt>AppName</dt>\n",
              "                <dd><code>emp</code></dd>\n",
              "            </dl>\n",
              "        </div>\n",
              "        \n",
              "            </div>\n",
              "        "
            ]
          },
          "metadata": {},
          "execution_count": 3
        }
      ]
    },
    {
      "cell_type": "code",
      "source": [
        "emp_data= [\n",
        "    [\"001\",\"102\",\"jhon doe\",\"30\",\"Male\",\"50000\",\"2025-01-05\"],\n",
        "    [\"002\",\"102\",\"jhon doe\",\"30\",\"Male\",\"40000\",\"2025-01-05\"],\n",
        "    [\"003\",\"102\",\"jhon doe\",\"30\",\"Male\",\"60000\",\"2025-01-05\"],\n",
        "    [\"004\",\"102\",\"jhon doe\",\"30\",\"Male\",\"30000\",\"2025-01-05\"],\n",
        "    [\"005\",\"102\",\"jhon doe\",\"30\",\"Male\",\"50000\",\"2025-01-05\"],\n",
        "    [\"006\",\"102\",\"jhon doe\",\"30\",\"Male\",\"80000\",\"2025-01-05\"]\n",
        "]\n",
        "\n",
        "emp_schema = \"empi_id string, dept_id string, emp_name string, emp_age string, emp_gender string, emp_salary string, emp_join_date string\""
      ],
      "metadata": {
        "id": "W-QfYobT64dN"
      },
      "execution_count": 5,
      "outputs": []
    },
    {
      "cell_type": "code",
      "source": [
        "df=spark.createDataFrame(data=emp_data,schema=emp_schema)"
      ],
      "metadata": {
        "id": "KR4dYesq7uaW"
      },
      "execution_count": 7,
      "outputs": []
    },
    {
      "cell_type": "code",
      "source": [
        "df.rdd.getNumPartitions()"
      ],
      "metadata": {
        "colab": {
          "base_uri": "https://localhost:8080/"
        },
        "id": "gl0CJdQT70UI",
        "outputId": "be896076-394c-46e8-ae21-d153fb447c96"
      },
      "execution_count": 8,
      "outputs": [
        {
          "output_type": "execute_result",
          "data": {
            "text/plain": [
              "2"
            ]
          },
          "metadata": {},
          "execution_count": 8
        }
      ]
    },
    {
      "cell_type": "code",
      "source": [
        "df.show()"
      ],
      "metadata": {
        "colab": {
          "base_uri": "https://localhost:8080/"
        },
        "id": "uyZQEYvy8I9w",
        "outputId": "d6ee9cf3-9449-4053-fe7b-666b88e59fe4"
      },
      "execution_count": 9,
      "outputs": [
        {
          "output_type": "stream",
          "name": "stdout",
          "text": [
            "+-------+-------+--------+-------+----------+----------+-------------+\n",
            "|empi_id|dept_id|emp_name|emp_age|emp_gender|emp_salary|emp_join_date|\n",
            "+-------+-------+--------+-------+----------+----------+-------------+\n",
            "|    001|    102|jhon doe|     30|      Male|     50000|   2025-01-05|\n",
            "|    002|    102|jhon doe|     30|      Male|     40000|   2025-01-05|\n",
            "|    003|    102|jhon doe|     30|      Male|     60000|   2025-01-05|\n",
            "|    004|    102|jhon doe|     30|      Male|     30000|   2025-01-05|\n",
            "|    005|    102|jhon doe|     30|      Male|     50000|   2025-01-05|\n",
            "|    006|    102|jhon doe|     30|      Male|     80000|   2025-01-05|\n",
            "+-------+-------+--------+-------+----------+----------+-------------+\n",
            "\n"
          ]
        }
      ]
    },
    {
      "cell_type": "code",
      "source": [
        "emp_final=df.where(\"emp_salary > 50000\")"
      ],
      "metadata": {
        "id": "od-6XpF48K3b"
      },
      "execution_count": 11,
      "outputs": []
    },
    {
      "cell_type": "code",
      "source": [
        "emp_final.show()"
      ],
      "metadata": {
        "colab": {
          "base_uri": "https://localhost:8080/"
        },
        "id": "RXV07ngl8Vcj",
        "outputId": "fcd3b596-3bba-48a0-cb38-acc69d949e58"
      },
      "execution_count": 12,
      "outputs": [
        {
          "output_type": "stream",
          "name": "stdout",
          "text": [
            "+-------+-------+--------+-------+----------+----------+-------------+\n",
            "|empi_id|dept_id|emp_name|emp_age|emp_gender|emp_salary|emp_join_date|\n",
            "+-------+-------+--------+-------+----------+----------+-------------+\n",
            "|    003|    102|jhon doe|     30|      Male|     60000|   2025-01-05|\n",
            "|    006|    102|jhon doe|     30|      Male|     80000|   2025-01-05|\n",
            "+-------+-------+--------+-------+----------+----------+-------------+\n",
            "\n"
          ]
        }
      ]
    },
    {
      "cell_type": "code",
      "source": [
        "emp_final=df.filter('emp_salary > 40000')"
      ],
      "metadata": {
        "id": "ySU-59al8cQZ"
      },
      "execution_count": 13,
      "outputs": []
    },
    {
      "cell_type": "code",
      "source": [
        "emp_final.show()"
      ],
      "metadata": {
        "colab": {
          "base_uri": "https://localhost:8080/"
        },
        "id": "kCa5TkB58kbf",
        "outputId": "931f1c02-e2f0-4390-ff79-03761103bf58"
      },
      "execution_count": 14,
      "outputs": [
        {
          "output_type": "stream",
          "name": "stdout",
          "text": [
            "+-------+-------+--------+-------+----------+----------+-------------+\n",
            "|empi_id|dept_id|emp_name|emp_age|emp_gender|emp_salary|emp_join_date|\n",
            "+-------+-------+--------+-------+----------+----------+-------------+\n",
            "|    001|    102|jhon doe|     30|      Male|     50000|   2025-01-05|\n",
            "|    003|    102|jhon doe|     30|      Male|     60000|   2025-01-05|\n",
            "|    005|    102|jhon doe|     30|      Male|     50000|   2025-01-05|\n",
            "|    006|    102|jhon doe|     30|      Male|     80000|   2025-01-05|\n",
            "+-------+-------+--------+-------+----------+----------+-------------+\n",
            "\n"
          ]
        }
      ]
    },
    {
      "cell_type": "code",
      "source": [
        "emp_final.write.format('csv').save(\"/content/sample_data/emp.csv\")"
      ],
      "metadata": {
        "id": "0A9Ad_GH8m7e"
      },
      "execution_count": 15,
      "outputs": []
    },
    {
      "cell_type": "code",
      "source": [],
      "metadata": {
        "id": "OFMCdHeV88_p"
      },
      "execution_count": null,
      "outputs": []
    }
  ]
}